{
  "nbformat": 4,
  "nbformat_minor": 0,
  "metadata": {
    "colab": {
      "provenance": []
    },
    "kernelspec": {
      "name": "python3",
      "display_name": "Python 3"
    },
    "language_info": {
      "name": "python"
    }
  },
  "cells": [
    {
      "cell_type": "markdown",
      "source": [
        "###***1. Explain the key features of Python that make it a popular choice for programming.***\n",
        "\n",
        "*   Python is a high level programming language and easy to learn as compare to other languages.\n",
        "*   Python is very versatile when it comes to real life uses. almost in every field we can use python.\n",
        "\n",
        "*   Python is simple and very much readable for which it becomes easier to understand and debug even for a begineer.\n",
        "*   Python has a large community support.\n",
        "\n",
        "*   Python has huge numbers of libraries, whcih are modules consisting many useful functions, which makes our jobs easier.\n",
        "\n",
        "\n",
        "\n",
        "\n",
        "\n"
      ],
      "metadata": {
        "id": "7Kd3PzC99XeE"
      }
    },
    {
      "cell_type": "markdown",
      "source": [
        "###***2. Describe the role of predefined keywords in Python and provide examples of how they are used in a program.***\n",
        "\n",
        "*  Keywords in python are some predefined words which have some special meanings and tasks and those keywords can not be used as a identifier or variable or function name. There are a total of 35 keywords avialable in python.\n",
        "\n",
        "By using the help() function we can see all the keywords."
      ],
      "metadata": {
        "id": "PHefebT7AwK0"
      }
    },
    {
      "cell_type": "code",
      "source": [
        "help('keywords') #will show all the keywords of pythonn"
      ],
      "metadata": {
        "colab": {
          "base_uri": "https://localhost:8080/"
        },
        "id": "Eo9sQppVHJ_g",
        "outputId": "45b0c5db-c3c0-4d38-ea36-08de7b0e62d1"
      },
      "execution_count": null,
      "outputs": [
        {
          "output_type": "stream",
          "name": "stdout",
          "text": [
            "\n",
            "Here is a list of the Python keywords.  Enter any keyword to get more help.\n",
            "\n",
            "False               class               from                or\n",
            "None                continue            global              pass\n",
            "True                def                 if                  raise\n",
            "and                 del                 import              return\n",
            "as                  elif                in                  try\n",
            "assert              else                is                  while\n",
            "async               except              lambda              with\n",
            "await               finally             nonlocal            yield\n",
            "break               for                 not                 \n",
            "\n"
          ]
        }
      ]
    },
    {
      "cell_type": "markdown",
      "source": [
        "For example, False, True these are boolean values. and, or, not these are logical operators. while and for is used for creating loops. if else elif these are used for conditional statements. import is use to access any module or libraries."
      ],
      "metadata": {
        "id": "b5b3o_prHVeB"
      }
    },
    {
      "cell_type": "markdown",
      "source": [
        "###***3. Compare and contrast mutable and immutable objects in Python with examples.***\n",
        "\n",
        "*   The objects or data structure which can be changed or modified after their creation are MUTABLE oblects, and those which can't be modified are IMMUTABLE objects.\n",
        "*   Lists, stes, dictionaries are the examples of mutable objects. while strings, tuples are immutable objects.\n",
        "\n"
      ],
      "metadata": {
        "id": "Oysb0inLIMPv"
      }
    },
    {
      "cell_type": "code",
      "source": [
        "#immutable object - string\n",
        "name = \"pritam\"\n",
        "name[0] = \"A\" #name can't be modified because it is a string object"
      ],
      "metadata": {
        "colab": {
          "base_uri": "https://localhost:8080/",
          "height": 176
        },
        "id": "9LgbfNh6Jvyk",
        "outputId": "6924fa59-b460-4b95-b5c4-03db08eeed8d"
      },
      "execution_count": null,
      "outputs": [
        {
          "output_type": "error",
          "ename": "TypeError",
          "evalue": "'str' object does not support item assignment",
          "traceback": [
            "\u001b[0;31m---------------------------------------------------------------------------\u001b[0m",
            "\u001b[0;31mTypeError\u001b[0m                                 Traceback (most recent call last)",
            "\u001b[0;32m<ipython-input-9-3f4c22f51b90>\u001b[0m in \u001b[0;36m<cell line: 3>\u001b[0;34m()\u001b[0m\n\u001b[1;32m      1\u001b[0m \u001b[0;31m#immutable object - string\u001b[0m\u001b[0;34m\u001b[0m\u001b[0;34m\u001b[0m\u001b[0m\n\u001b[1;32m      2\u001b[0m \u001b[0mname\u001b[0m \u001b[0;34m=\u001b[0m \u001b[0;34m\"pritam\"\u001b[0m\u001b[0;34m\u001b[0m\u001b[0;34m\u001b[0m\u001b[0m\n\u001b[0;32m----> 3\u001b[0;31m \u001b[0mname\u001b[0m\u001b[0;34m[\u001b[0m\u001b[0;36m0\u001b[0m\u001b[0;34m]\u001b[0m \u001b[0;34m=\u001b[0m \u001b[0;34m\"A\"\u001b[0m\u001b[0;34m\u001b[0m\u001b[0;34m\u001b[0m\u001b[0m\n\u001b[0m",
            "\u001b[0;31mTypeError\u001b[0m: 'str' object does not support item assignment"
          ]
        }
      ]
    },
    {
      "cell_type": "code",
      "source": [
        "#Mutable object - list\n",
        "my_list = [9,'p','g',12]\n",
        "print(my_list) #by this it will print the initially created list\n",
        "my_list[0] = 'PG' #modification of the first element of the list\n",
        "\n",
        "my_list #now it will print the modified list"
      ],
      "metadata": {
        "colab": {
          "base_uri": "https://localhost:8080/"
        },
        "id": "DS4sOE1TLVrn",
        "outputId": "52abdbfc-bf0c-4700-e8f5-828d3f4b888d"
      },
      "execution_count": null,
      "outputs": [
        {
          "output_type": "stream",
          "name": "stdout",
          "text": [
            "[9, 'p', 'g', 12]\n"
          ]
        },
        {
          "output_type": "execute_result",
          "data": {
            "text/plain": [
              "['PG', 'p', 'g', 12]"
            ]
          },
          "metadata": {},
          "execution_count": 13
        }
      ]
    },
    {
      "cell_type": "markdown",
      "source": [
        "###***4. Discuss the different types of operators in Python and provide examples of how they are used.***\n",
        "\n",
        "\n",
        "\n",
        "*   There are various types of operators in python namely\n",
        "\n",
        "\n",
        "1.   **Arithmatic Operators**\n",
        "*  Addition(\"+\")\n",
        "* Substraction(\"-\"),\n",
        "* Multiplication(\"*\"),\n",
        "* Division(\"/\"),\n",
        "* Modulo or modulus(\"%\"),\n",
        "* Floor(\"//\"),\n",
        "* Exponentiation(\"**\")\n",
        "\n",
        "\n",
        "\n",
        "\n"
      ],
      "metadata": {
        "id": "gho6VuajLVNw"
      }
    },
    {
      "cell_type": "code",
      "source": [
        "#performing all the arithmatic operations on two numbers.\n",
        "\n",
        "x = 9\n",
        "y = 5\n",
        "\n",
        "print(\"Addtion, x + y = \", x+y)\n",
        "\n",
        "print(\"substraction, x - y = \", x-y)\n",
        "\n",
        "print(\"Multiplication, x * y =  \", x*y)\n",
        "\n",
        "print(\"Division, x/y = \", x/y)\n",
        "\n",
        "print (\"x modulo y is = \", x%y) # Gives the remainder of x/y\n",
        "\n",
        "print(\"x to the power y, Exponentiation x^y = \", x**y)\n",
        "\n",
        "print(\"Floor,x//y = \", x//y) #returns only the integer part of the remainder"
      ],
      "metadata": {
        "colab": {
          "base_uri": "https://localhost:8080/"
        },
        "id": "lGLXYx0FDzL5",
        "outputId": "395e19f8-5825-486c-eb7f-efb72fa35404"
      },
      "execution_count": null,
      "outputs": [
        {
          "output_type": "stream",
          "name": "stdout",
          "text": [
            "Addtion, x + y =  14\n",
            "substraction, x - y =  4\n",
            "Multiplication, x * y =   45\n",
            "Division, x/y =  1.8\n",
            "x modulo y is =  4\n",
            "x powerd y, Exponentiation x^y =  59049\n",
            "Floor,x//y =  1\n"
          ]
        }
      ]
    },
    {
      "cell_type": "markdown",
      "source": [
        "2. **Comparison Operators**\n",
        "\n",
        "\n",
        "*   == (Equal to)\n",
        "* != (Not equal to)\n",
        "*  \">\"(Greater than)\n",
        "*< (Less than)\n",
        "* \">=\" (Greater than or equal to)\n",
        "*<= (Less than or equal to)\n",
        "\n",
        "*   These operators are essential to compare two variables and always gives  a boolean output, True or False.\n"
      ],
      "metadata": {
        "id": "6QbqVFg1H620"
      }
    },
    {
      "cell_type": "code",
      "source": [
        "x = 5\n",
        "y = 9\n",
        "\n",
        "print(x == y)  #TRUE if x and y are equal\n",
        "print(x != y)  #TRUE if x and y are NOT equal\n",
        "print(x > y)\n",
        "print(x < y)\n",
        "print(x >= y)\n",
        "print(x <= y)\n"
      ],
      "metadata": {
        "colab": {
          "base_uri": "https://localhost:8080/"
        },
        "id": "zCOPcSjvH5V1",
        "outputId": "63fa6a52-b1b0-4d19-9b37-6981caa2213c"
      },
      "execution_count": null,
      "outputs": [
        {
          "output_type": "stream",
          "name": "stdout",
          "text": [
            "False\n",
            "True\n",
            "False\n",
            "True\n",
            "False\n",
            "True\n"
          ]
        }
      ]
    },
    {
      "cell_type": "markdown",
      "source": [
        "####3. Assignment Operators\n",
        "Uses for assigning values to variables.\n",
        "\n",
        "* Assigns value (=)\n",
        "*Add and assign (+=)\n",
        "*Subtract and assign (-=)\n",
        "* Multiply and assign (*=)\n",
        "* Divide and assign(/=)\n",
        "*Modulus and assign(%=)\n",
        "*Exponent and assign(**=)\n",
        "* Floor division and assign(//=)"
      ],
      "metadata": {
        "id": "LWFGcuTtOXXf"
      }
    },
    {
      "cell_type": "code",
      "source": [
        "p = 9\n",
        "p += 5 #useful in while loop, equivalent to p = p + 5\n",
        "p\n"
      ],
      "metadata": {
        "colab": {
          "base_uri": "https://localhost:8080/"
        },
        "id": "4etcyl66Qhv3",
        "outputId": "d45557fc-79ed-4ec6-b681-4c846ae36548"
      },
      "execution_count": null,
      "outputs": [
        {
          "output_type": "execute_result",
          "data": {
            "text/plain": [
              "14"
            ]
          },
          "metadata": {},
          "execution_count": 7
        }
      ]
    },
    {
      "cell_type": "code",
      "source": [
        "p = 2\n",
        "p **= 2 # p = p**2\n",
        "p"
      ],
      "metadata": {
        "colab": {
          "base_uri": "https://localhost:8080/"
        },
        "id": "tfNhY2veTIlw",
        "outputId": "7ccdfaa0-3be7-4d05-85f3-6ae71104d19d"
      },
      "execution_count": null,
      "outputs": [
        {
          "output_type": "execute_result",
          "data": {
            "text/plain": [
              "4"
            ]
          },
          "metadata": {},
          "execution_count": 13
        }
      ]
    },
    {
      "cell_type": "code",
      "source": [
        "p = 7\n",
        "p %= 3 # p = p%3\n",
        "p"
      ],
      "metadata": {
        "colab": {
          "base_uri": "https://localhost:8080/"
        },
        "id": "4FlFfPE9T7JK",
        "outputId": "64ee6df6-f0b9-4b21-d490-981cd499d542"
      },
      "execution_count": null,
      "outputs": [
        {
          "output_type": "execute_result",
          "data": {
            "text/plain": [
              "1"
            ]
          },
          "metadata": {},
          "execution_count": 14
        }
      ]
    },
    {
      "cell_type": "markdown",
      "source": [
        "####4. Logical Operators\n",
        "Useful in conditional statements\n",
        "\n",
        "\n",
        "*   \"and\" (when both condition needs to be satisfied or verified. i.e., TRUE when only both are true, or both are false)\n",
        "*   \"or\" (when either one has to satisfy. i.e., TRUE when either one is true. FALSE when both are false. TRUE when both)\n",
        "* \"not\" (when we want to satisfy the inverse condition to be satisfied, TRUE when when assigned value is false.)\n"
      ],
      "metadata": {
        "id": "p0SXcNg-UXe5"
      }
    },
    {
      "cell_type": "code",
      "source": [
        "#Example using conditional statement - evaluating even or odd\n",
        "\n",
        "\n",
        "original_username = \"pritam\"\n",
        "correct_password = \"password\"\n",
        "\n",
        "# Input from user\n",
        "username = input(\"Enter your username: \")\n",
        "password = input(\"Enter your password: \")\n",
        "\n",
        "# We can only let the user login if both username and password matches\n",
        "if username == original_username == username and password == correct_password:\n",
        "    print(\"You are logged in successfully. Welcome!\")\n",
        "else:\n",
        "    print(\"Wrong credentials. Please check your username and password. May be both or either one of your credentials are wrong.\")\n",
        "\n"
      ],
      "metadata": {
        "colab": {
          "base_uri": "https://localhost:8080/"
        },
        "id": "-flOfm3OXByV",
        "outputId": "7082a67e-c8db-4c6d-b7b9-2e9295d473d0"
      },
      "execution_count": null,
      "outputs": [
        {
          "output_type": "stream",
          "name": "stdout",
          "text": [
            "Enter your username: pritam\n",
            "Enter your password: password\n",
            "You are logged in successfully. Welcome!\n"
          ]
        }
      ]
    },
    {
      "cell_type": "code",
      "source": [
        "#example of or, not\n",
        "a = True\n",
        "b = False\n",
        "c = False\n",
        "d = True\n",
        "\n",
        "print(a and b)\n",
        "print(a and d)\n",
        "print(b and c)\n",
        "print(b or a)\n",
        "print(b or c)\n",
        "print(a or d)\n",
        "print(not a)"
      ],
      "metadata": {
        "colab": {
          "base_uri": "https://localhost:8080/"
        },
        "id": "9u0myzDPeqQe",
        "outputId": "5058b9a6-d44b-49e9-ef49-45333efc14e8"
      },
      "execution_count": null,
      "outputs": [
        {
          "output_type": "stream",
          "name": "stdout",
          "text": [
            "False\n",
            "True\n",
            "False\n",
            "True\n",
            "False\n",
            "True\n",
            "False\n"
          ]
        }
      ]
    },
    {
      "cell_type": "markdown",
      "source": [
        "####5. Bitwise Operators\n",
        "These operators are for binary numbers.\n",
        "* AND (&)\n",
        "* OR (|)\n",
        "* XOR (^)\n",
        "* NOT (~)\n",
        "* Left shift (<<)\n",
        "* Right shift (>>)"
      ],
      "metadata": {
        "id": "QWCFvv5DigQo"
      }
    },
    {
      "cell_type": "code",
      "source": [],
      "metadata": {
        "id": "y6QFEMtUjOds"
      },
      "execution_count": null,
      "outputs": []
    },
    {
      "cell_type": "markdown",
      "source": [
        "####6. Membership Operators\n",
        "To verify or check the inclusion of an element in a structure. Gives boolean output.\n",
        "\n",
        "* \"in\" (TRUE if the element is present)\n",
        "* \"not in\" (TRUE if the element is not present.)"
      ],
      "metadata": {
        "id": "Q3z9GHbDjZ1o"
      }
    },
    {
      "cell_type": "code",
      "source": [
        "my_list = [\"P\", 9, 5, \"PG\"]\n",
        "\n",
        "print(\"PG\" in my_list)\n",
        "print(20 not in my_list)\n",
        "print(9 not in my_list)"
      ],
      "metadata": {
        "colab": {
          "base_uri": "https://localhost:8080/"
        },
        "id": "RGjzfxhwj1oM",
        "outputId": "dff43b40-faee-4017-bc5a-f8b1704c3523"
      },
      "execution_count": null,
      "outputs": [
        {
          "output_type": "stream",
          "name": "stdout",
          "text": [
            "True\n",
            "True\n",
            "False\n"
          ]
        }
      ]
    },
    {
      "cell_type": "markdown",
      "source": [
        "####7. Identity Operators\n",
        "These compares memory locations of two structures.\n",
        "* \"is\" (TRUE if both variables are represnting same objects.)\n",
        "* \"not is\" (TRUE if both variables are NOT representing same objects.)"
      ],
      "metadata": {
        "id": "kx1y6HCDkvvA"
      }
    },
    {
      "cell_type": "code",
      "source": [
        "s1 = {\"a\",\"b\",9,5}\n",
        "s2 = {\"a\",\"b\",9,5}\n",
        "l1 = [\"a\",\"b\",9,5]\n",
        "l2 = l1\n",
        "s3 = s1\n",
        "\n",
        "print(s1 is s2)\n",
        "print(s1 is s3)\n",
        "print(l1 is not s1)\n",
        "print(l1 is not l2)"
      ],
      "metadata": {
        "colab": {
          "base_uri": "https://localhost:8080/"
        },
        "id": "snPQmdyPlOkZ",
        "outputId": "9a69b42e-fd97-41d6-cae1-a0d5eae72176"
      },
      "execution_count": null,
      "outputs": [
        {
          "output_type": "stream",
          "name": "stdout",
          "text": [
            "False\n",
            "True\n",
            "True\n",
            "False\n"
          ]
        }
      ]
    },
    {
      "cell_type": "markdown",
      "source": [
        "###***5. Explain the concept of type casting in Python with examples.***\n",
        "\n",
        "The method of converting one data type to another is known as Type Conversion or Type Casting. In python typecasting can be done by both explicitly and implicitly.\n",
        "\n",
        "* By **Implicit** type casting we mean when python automatically performs type conversion according the operation necessity. For example, when we try to add a float and a integer, python automatically converts the integer to a float as the addition can only be done within the same data types, and returns a float.\n",
        "* Whereas in case of **Explicit** type casting, we change the data type using some inbuilt python function according to our need. For example when we take a input from a user using the \"input()\" function, the data type becomes a string, by default. Then sometimes we need to convert the string data type to another using typecasting functions. Some typecasting functions in python are -\n",
        "> int(), float(), str(),\n",
        "\n"
      ],
      "metadata": {
        "id": "_T59kfy6A3uI"
      }
    },
    {
      "cell_type": "code",
      "source": [
        "# Implicit type casting\n",
        "n1 = 9.05       #float\n",
        "n2 = 12         #integer\n",
        "\n",
        "sum = n1 + n2\n",
        "print(sum)\n",
        "print(type(sum))   #float\n",
        "\n",
        "\n",
        "#Explicit type casting\n",
        "n1_upgd = int(n1)\n",
        "print(n1_upgd) #converted to integer. As we converting a larger data type to a smaller data type we lose precision due to the data loss.\n",
        "print(type(n1_upgd))  #integer\n"
      ],
      "metadata": {
        "colab": {
          "base_uri": "https://localhost:8080/"
        },
        "id": "wsMHZ2CKUhkn",
        "outputId": "5aa4a299-2e65-4822-d01f-4ee653bf3761"
      },
      "execution_count": null,
      "outputs": [
        {
          "output_type": "stream",
          "name": "stdout",
          "text": [
            "21.05\n",
            "<class 'float'>\n",
            "9\n",
            "<class 'int'>\n"
          ]
        }
      ]
    },
    {
      "cell_type": "code",
      "source": [
        "name = \"pritam\"\n",
        "print(int(name)) #this will give ValueError. Ss to convert a string to an integer the string element has to have a numeric value.\n"
      ],
      "metadata": {
        "colab": {
          "base_uri": "https://localhost:8080/",
          "height": 179
        },
        "id": "nVTbbaCzYSz9",
        "outputId": "0ad1c39a-919e-49ab-c9f1-b267aa7d1afd"
      },
      "execution_count": null,
      "outputs": [
        {
          "output_type": "error",
          "ename": "ValueError",
          "evalue": "invalid literal for int() with base 10: 'pritam'",
          "traceback": [
            "\u001b[0;31m---------------------------------------------------------------------------\u001b[0m",
            "\u001b[0;31mValueError\u001b[0m                                Traceback (most recent call last)",
            "\u001b[0;32m<ipython-input-4-f2ddfbf412b5>\u001b[0m in \u001b[0;36m<cell line: 2>\u001b[0;34m()\u001b[0m\n\u001b[1;32m      1\u001b[0m \u001b[0mname\u001b[0m \u001b[0;34m=\u001b[0m \u001b[0;34m\"pritam\"\u001b[0m\u001b[0;34m\u001b[0m\u001b[0;34m\u001b[0m\u001b[0m\n\u001b[0;32m----> 2\u001b[0;31m \u001b[0mprint\u001b[0m\u001b[0;34m(\u001b[0m\u001b[0mint\u001b[0m\u001b[0;34m(\u001b[0m\u001b[0mname\u001b[0m\u001b[0;34m)\u001b[0m\u001b[0;34m)\u001b[0m \u001b[0;31m#this will give ValueError. Ss to convert a string to an integer the string element has to have a numeric value.\u001b[0m\u001b[0;34m\u001b[0m\u001b[0;34m\u001b[0m\u001b[0m\n\u001b[0m",
            "\u001b[0;31mValueError\u001b[0m: invalid literal for int() with base 10: 'pritam'"
          ]
        }
      ]
    },
    {
      "cell_type": "code",
      "source": [
        "age = input(\"What's your age? \")    #we will give an integer input\n",
        "\n",
        "print(type(age))  #in spite of a integer input this will be a string\n",
        "age = int(age)  # converting to a integer\n",
        "print(type(age))  # int"
      ],
      "metadata": {
        "colab": {
          "base_uri": "https://localhost:8080/"
        },
        "id": "LUrtda5vYIJH",
        "outputId": "faca8191-a1f6-4d1f-b018-762da23b5f4f"
      },
      "execution_count": null,
      "outputs": [
        {
          "output_type": "stream",
          "name": "stdout",
          "text": [
            "What's your age? 9\n",
            "<class 'str'>\n",
            "<class 'int'>\n"
          ]
        }
      ]
    },
    {
      "cell_type": "code",
      "source": [
        "#now the age variable is an integer. so if we try to add name and age this will give a Type-error.\n",
        "new = name + age"
      ],
      "metadata": {
        "colab": {
          "base_uri": "https://localhost:8080/",
          "height": 162
        },
        "id": "c1bIGHmbYi0t",
        "outputId": "4bb0959d-c833-4572-eaac-a8c7691d8704"
      },
      "execution_count": null,
      "outputs": [
        {
          "output_type": "error",
          "ename": "TypeError",
          "evalue": "can only concatenate str (not \"int\") to str",
          "traceback": [
            "\u001b[0;31m---------------------------------------------------------------------------\u001b[0m",
            "\u001b[0;31mTypeError\u001b[0m                                 Traceback (most recent call last)",
            "\u001b[0;32m<ipython-input-9-9d5b5ec69271>\u001b[0m in \u001b[0;36m<cell line: 2>\u001b[0;34m()\u001b[0m\n\u001b[1;32m      1\u001b[0m \u001b[0;31m#now the age variable is an integer. so if we try to add name and age this will give a Type-error.\u001b[0m\u001b[0;34m\u001b[0m\u001b[0;34m\u001b[0m\u001b[0m\n\u001b[0;32m----> 2\u001b[0;31m \u001b[0mnew\u001b[0m \u001b[0;34m=\u001b[0m \u001b[0mname\u001b[0m \u001b[0;34m+\u001b[0m \u001b[0mage\u001b[0m\u001b[0;34m\u001b[0m\u001b[0;34m\u001b[0m\u001b[0m\n\u001b[0m",
            "\u001b[0;31mTypeError\u001b[0m: can only concatenate str (not \"int\") to str"
          ]
        }
      ]
    },
    {
      "cell_type": "code",
      "source": [
        "#but we can add name and age if we change the age data type back to string.\n",
        "new = name + str(age)\n",
        "print(new)\n",
        "print(type(new))"
      ],
      "metadata": {
        "colab": {
          "base_uri": "https://localhost:8080/"
        },
        "id": "88e4ihIxZFCC",
        "outputId": "54c5ddd3-4b05-408b-db3e-2b04505cb1bb"
      },
      "execution_count": null,
      "outputs": [
        {
          "output_type": "stream",
          "name": "stdout",
          "text": [
            "pritam9\n",
            "<class 'str'>\n"
          ]
        }
      ]
    },
    {
      "cell_type": "markdown",
      "source": [
        "***6. How do conditional statements work in Python? Illustrate with examples.***\n",
        "\n",
        "There are three keywords in python dedicated for conditional statements. Often we need somethng to be executed if a certain condition satisfies. so conditional statements allows us to give a condition and, when true, execute a certain block of code. The three keywords in python are -\n",
        "> \"if\", \"else\", \"elif\"."
      ],
      "metadata": {
        "id": "rlOCfZLZA8Os"
      }
    },
    {
      "cell_type": "code",
      "source": [
        "# only using if statement.\n",
        "# we will say a person is an adult if the age is greater than or equal to 18\n",
        "\n",
        "age = 18\n",
        "\n",
        "if age >= 18:\n",
        "  print(\"You are an adult\")"
      ],
      "metadata": {
        "colab": {
          "base_uri": "https://localhost:8080/"
        },
        "id": "PmLjuRj6qLkh",
        "outputId": "b6002e3f-345f-4763-ec57-972fa6f9fe59"
      },
      "execution_count": 1,
      "outputs": [
        {
          "output_type": "stream",
          "name": "stdout",
          "text": [
            "You are an adult\n"
          ]
        }
      ]
    },
    {
      "cell_type": "code",
      "source": [
        "# now if we want to print something when the age is below 18, we need to use the else.\n",
        "\n",
        "age = 15\n",
        "\n",
        "if age >= 18:\n",
        "  print(\"You are an adult\") #this block of code will be executed when the 1st condition is true\n",
        "else:\n",
        "  print(\"You are not an adult\") #otherwise this"
      ],
      "metadata": {
        "colab": {
          "base_uri": "https://localhost:8080/"
        },
        "id": "pGs81LNpq04c",
        "outputId": "0a43356d-97b7-4a87-ceba-8be7d4b75c90"
      },
      "execution_count": 2,
      "outputs": [
        {
          "output_type": "stream",
          "name": "stdout",
          "text": [
            "You are not an adult\n"
          ]
        }
      ]
    },
    {
      "cell_type": "code",
      "source": [
        "#Let's use boolean variable\n",
        "\n",
        "adult = True\n",
        "\n",
        "if adult:\n",
        "  print(\"You are an adult\")\n",
        "else:\n",
        "  print(\"You are not an adult\")"
      ],
      "metadata": {
        "colab": {
          "base_uri": "https://localhost:8080/"
        },
        "id": "lsewF8wurcLO",
        "outputId": "ecf6167e-dd8f-4c47-f7c6-3b546797a13b"
      },
      "execution_count": 3,
      "outputs": [
        {
          "output_type": "stream",
          "name": "stdout",
          "text": [
            "You are an adult\n"
          ]
        }
      ]
    },
    {
      "cell_type": "code",
      "source": [
        "#when we have multiple condition to be checked, we use elif statement\n",
        "\n",
        "marks = 99\n",
        "\n",
        "if marks >= 90:\n",
        "  print(\"Grade A\") #this block of code will be executed when the 1st condition is true, and no condition will be checked after this.\n",
        "elif marks >= 80:\n",
        "  print(\"Grade B\")\n",
        "elif marks >= 70:\n",
        "  print(\"Grade C\")\n",
        "elif marks >= 60:\n",
        "  print(\"Grade D\")\n",
        "else:\n",
        "  print(\"Grade F\")"
      ],
      "metadata": {
        "colab": {
          "base_uri": "https://localhost:8080/"
        },
        "id": "wOZEBAGZsEok",
        "outputId": "0168d635-60aa-40b6-84f8-535c69ab8892"
      },
      "execution_count": 4,
      "outputs": [
        {
          "output_type": "stream",
          "name": "stdout",
          "text": [
            "Grade A\n"
          ]
        }
      ]
    },
    {
      "cell_type": "markdown",
      "source": [
        "***7. Describe the different types of loops in Python and their use cases with examples.***\n",
        "\n",
        "In python we have two primary loops which helps us to execute a block of code repeatedly over a particular condtion or time. Those two loops in python are known as -\n",
        "* for loop - helpful when we know exactly how many times we want to execute a block of code that is using for loop we iterate over a sequence or any iterable objects like lists, tuple.\n",
        "* while loop - we use while loop when we want to execute a certain block of code until a specified condition satiefies."
      ],
      "metadata": {
        "id": "c4APdDQXBBef"
      }
    },
    {
      "cell_type": "code",
      "source": [
        "# EXAMPLE OF FOR LOOP\n",
        "fruits = [\"apple\", \"banana\", \"cherry\"] #creating a list - an iterable object\n",
        "for x in fruits:\n",
        "  print(x)"
      ],
      "metadata": {
        "colab": {
          "base_uri": "https://localhost:8080/"
        },
        "id": "yvK-EbrLnLmM",
        "outputId": "b6a1e1a1-71cd-4ed3-fcc7-a1ac193b1e5a"
      },
      "execution_count": 1,
      "outputs": [
        {
          "output_type": "stream",
          "name": "stdout",
          "text": [
            "apple\n",
            "banana\n",
            "cherry\n"
          ]
        }
      ]
    },
    {
      "cell_type": "code",
      "source": [
        "#using range() funcion - this is a in-built function in python and use to generate a sequence of numbers, helpful in for loop\n",
        "for x in range(1, 6):\n",
        "  print(x)     #prints integers from 1 to 5"
      ],
      "metadata": {
        "colab": {
          "base_uri": "https://localhost:8080/"
        },
        "id": "DvlpDcp6noPg",
        "outputId": "bc8b46e1-f57d-4dc8-c1dd-f3ee0a2f7889"
      },
      "execution_count": 2,
      "outputs": [
        {
          "output_type": "stream",
          "name": "stdout",
          "text": [
            "1\n",
            "2\n",
            "3\n",
            "4\n",
            "5\n"
          ]
        }
      ]
    },
    {
      "cell_type": "code",
      "source": [
        "# WHILE\n",
        "count = 0\n",
        "while count < 5:    #specifying condition\n",
        "    print(count) #first print 0 then the value of count increases by 1 each time, and comtinues to print till the condition satisfies\n",
        "    count += 1 #increasing the value of count by 1 and assigning. this  is  a assignment operator\n",
        "\n",
        "    #prints from 0 to 4\n",
        "\n"
      ],
      "metadata": {
        "colab": {
          "base_uri": "https://localhost:8080/"
        },
        "id": "hSWroyqRdNJ3",
        "outputId": "b0d78f6b-ec94-4349-99ec-2b2a96c19dc5"
      },
      "execution_count": 3,
      "outputs": [
        {
          "output_type": "stream",
          "name": "stdout",
          "text": [
            "0\n",
            "1\n",
            "2\n",
            "3\n",
            "4\n"
          ]
        }
      ]
    }
  ]
}